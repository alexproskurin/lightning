{
 "cells": [
  {
   "cell_type": "code",
   "execution_count": 30,
   "metadata": {
    "pycharm": {
     "name": "#%%\n"
    }
   },
   "outputs": [],
   "source": [
    "import numpy as np\n",
    "\n",
    "shape = (100, 50)\n",
    "probability = (0.4, 0.3)\n",
    "\n",
    "# STEP 1 -- generate random maze\n",
    "# generate matrices representing whether a square has left, right, top, or bottom\n",
    "vertical = np.random.choice(a=[True, False], size=(shape[0]+1, shape[1]+1), p=[probability[0], 1-probability[0]])\n",
    "horizontal = np.random.choice(a=[True, False], size=(shape[0]+1, shape[1]+1), p=[probability[1], 1-probability[1]])\n",
    "\n",
    "# setup outermost walls\n",
    "vertical[:, 0] = True\n",
    "vertical[:, -1] = True\n",
    "horizontal[0, :] = True\n",
    "horizontal[-1, :] = True"
   ]
  },
  {
   "cell_type": "code",
   "execution_count": 31,
   "metadata": {
    "pycharm": {
     "name": "#%%\n"
    }
   },
   "outputs": [],
   "source": [
    "# STEP 1.1 -- display random maze\n",
    "from PIL import Image, ImageDraw\n",
    "cell_size = (10, 10)\n",
    "image_size = (shape[0]*cell_size[0]+shape[0]+1, shape[1]*cell_size[1]+shape[1]+1)\n",
    "\n",
    "# generate 2D matrix of cells\n",
    "image_arr = np.zeros(shape=image_size, dtype=bool)\n",
    "# fill in horizontal lines\n",
    "for row in range(horizontal.shape[0]):\n",
    "    for line in range(horizontal.shape[1]):\n",
    "        line_start = line*(cell_size[1]+1*(line!=0))\n",
    "        line_end = line_start + cell_size[1] + 1\n",
    "        image_arr[row*(cell_size[0]+1*(row!=0)), line_start:line_end] = horizontal[row, line]\n",
    "\n",
    "# fill in vertical lines\n",
    "for col in range(vertical.shape[1]):\n",
    "    for line in range(horizontal.shape[0]):\n",
    "        line_start = line*(cell_size[1]+1*(line!=0))\n",
    "        line_end = line_start + cell_size[1]+1\n",
    "        image_arr[line_start:line_end, col*(cell_size[0]+1*(col!=0))] = \\\n",
    "            image_arr[line_start:line_end, col*(cell_size[0]+1*(col!=0))] | vertical[line, col]\n",
    "\n",
    "maze = Image.fromarray(image_arr)\n",
    "# maze.show()\n",
    "\n",
    "# successfully generated a maze"
   ]
  },
  {
   "cell_type": "code",
   "execution_count": 32,
   "metadata": {
    "pycharm": {
     "name": "#%%\n"
    }
   },
   "outputs": [],
   "source": [
    "# STEP 2 -- reduce to graph problem\n",
    "# generate adjacency list for graph representation\n",
    "adjacency_list = []\n",
    "count = 0\n",
    "for i in range(shape[0]):\n",
    "    for j in range(shape[1]):\n",
    "        adjacency_list.append([])\n",
    "        if horizontal[i, j] == 0:\n",
    "            adjacency_list[count].append(count-shape[1])\n",
    "        if vertical[i, j] == 0:\n",
    "            adjacency_list[count].append(count-1)\n",
    "        if vertical[i, j+1] == 0:\n",
    "            adjacency_list[count].append(count+1)\n",
    "        if horizontal[i+1,j] == 0:\n",
    "            adjacency_list[count].append(count+shape[1])\n",
    "        count += 1"
   ]
  },
  {
   "cell_type": "code",
   "execution_count": 33,
   "metadata": {
    "pycharm": {
     "name": "#%%\n"
    }
   },
   "outputs": [],
   "source": [
    "# list of nodes defining th ground\n",
    "ground_nodes = [val for val in range(shape[0]*shape[1]-shape[1], shape[0]*shape[1])]"
   ]
  },
  {
   "cell_type": "code",
   "execution_count": 34,
   "metadata": {
    "pycharm": {
     "name": "#%%\n"
    }
   },
   "outputs": [],
   "source": [
    "# STEP 2.1 -- solve as graph traversal problem\n",
    "import sys\n",
    "from operator import itemgetter\n",
    "\n",
    "def shortest_path(adj_list, start_vertex, destination_nodes):\n",
    "    dist = [sys.maxsize-1]*(shape[0]*shape[1])\n",
    "    dist[start_vertex] = 0\n",
    "\n",
    "    visited = [False]*(shape[0]*shape[1])\n",
    "    visited[0] = True\n",
    "\n",
    "    prev = [-1]*(shape[0]*shape[1])\n",
    "    q = []\n",
    "    q.append(start_vertex)\n",
    "    found = False\n",
    "\n",
    "    while q:\n",
    "        v = q.pop(0)\n",
    "        for i in adj_list[v]:\n",
    "            if not visited[i]:\n",
    "                visited[i] = True\n",
    "                dist[i] = dist[v]+1\n",
    "                prev[i] = v\n",
    "                q.append(i)\n",
    "\n",
    "                if i in destination_nodes:\n",
    "                    found = True\n",
    "                    break\n",
    "            if found:\n",
    "                break\n",
    "\n",
    "    if found:\n",
    "        # figure out which ground vertex was reached first\n",
    "        reached = [v for v in ground_nodes if prev[v] != -1]\n",
    "\n",
    "        # select random ground\n",
    "        if len(reached) > 1:\n",
    "            ground = reached[np.random.randint(0, len(reached)-1)]\n",
    "        else:\n",
    "            ground = reached[0]\n",
    "\n",
    "        path = []\n",
    "        path.append(ground)\n",
    "        node = ground\n",
    "\n",
    "        while prev[node] != -1:\n",
    "            path.append(prev[node])\n",
    "            node = prev[node]\n",
    "\n",
    "        path.reverse()\n",
    "        return path\n",
    "    else:\n",
    "        print('Path NOT FOUND')\n",
    "        return []\n",
    "\n",
    "path = shortest_path(adjacency_list, 0, destination_nodes=ground_nodes)"
   ]
  },
  {
   "cell_type": "code",
   "execution_count": 38,
   "metadata": {
    "pycharm": {
     "name": "#%%\n"
    }
   },
   "outputs": [
    {
     "name": "stdout",
     "output_type": "stream",
     "text": [
      "Done\n"
     ]
    }
   ],
   "source": [
    "import copy\n",
    "# create a function to colour the cell\n",
    "def colour_cell(cell_num, image_arr):\n",
    "    hor_location = (cell_num % shape[1])*(cell_size[1] + 1) + 1\n",
    "    ver_location = int(cell_num / shape[1])*(cell_size[0] + 1) + 1\n",
    "    image_arr[ver_location:ver_location+cell_size[0]+1, hor_location:hor_location+cell_size[1]+1] = 1\n",
    "\n",
    "    return image_arr\n",
    "\n",
    "\n",
    "def animate_path(path, og_maze):\n",
    "    frames = []\n",
    "    frame = og_maze\n",
    "    frames.append(Image.fromarray(frame))\n",
    "    for cell in path:\n",
    "        frame = colour_cell(cell, frame)\n",
    "        frames.append(Image.fromarray(frame).copy())\n",
    "    frames[0].save(\"out.gif\", save_all=True, append_images=frames[1:], duration=10)\n",
    "\n",
    "animate_path(path, image_arr)\n",
    "print('Done')"
   ]
  }
 ],
 "metadata": {
  "kernelspec": {
   "display_name": "Python 3 (ipykernel)",
   "language": "python",
   "name": "python3"
  },
  "language_info": {
   "codemirror_mode": {
    "name": "ipython",
    "version": 3
   },
   "file_extension": ".py",
   "mimetype": "text/x-python",
   "name": "python",
   "nbconvert_exporter": "python",
   "pygments_lexer": "ipython3",
   "version": "3.9.4"
  }
 },
 "nbformat": 4,
 "nbformat_minor": 1
}
